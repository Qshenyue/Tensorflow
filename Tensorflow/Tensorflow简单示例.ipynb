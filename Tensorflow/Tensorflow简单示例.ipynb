{
 "cells": [
  {
   "cell_type": "code",
   "execution_count": 2,
   "metadata": {
    "collapsed": true
   },
   "outputs": [],
   "source": [
    "import tensorflow as tf\n",
    "import numpy as np"
   ]
  },
  {
   "cell_type": "code",
   "execution_count": 8,
   "metadata": {},
   "outputs": [
    {
     "name": "stdout",
     "output_type": "stream",
     "text": [
      "0 [-0.33174843, 2.9609697]\n",
      "20 [-0.75681263, 0.65570426]\n",
      "40 [-0.39563137, 0.46360528]\n",
      "60 [-0.18670237, 0.35248482]\n",
      "80 [-0.065845519, 0.28820619]\n",
      "100 [0.0040652035, 0.25102365]\n",
      "120 [0.044505678, 0.22951508]\n",
      "140 [0.067898817, 0.21707326]\n",
      "160 [0.081430778, 0.20987618]\n",
      "180 [0.089258455, 0.20571297]\n",
      "200 [0.093786463, 0.20330472]\n"
     ]
    }
   ],
   "source": [
    "#使用numpy生成100个随机点\n",
    "x_data = np.random.rand(100)\n",
    "y_data = x_data*0.1+0.2\n",
    "\n",
    "#构造一个线性模型\n",
    "b = tf.Variable(5.0)\n",
    "k = tf.Variable(0.7)\n",
    "y = k*x_data+b\n",
    "\n",
    "#二次代价函数\n",
    "loss = tf.reduce_mean(tf.square(y_data-y))\n",
    "#定义梯度下降法来进行训练的优化器\n",
    "optimizer = tf.train.GradientDescentOptimizer(0.2)#0.2的学习率\n",
    "#最小代价函数\n",
    "train = optimizer.minimize(loss)\n",
    "#初始化变量\n",
    "init = tf.global_variables_initializer()\n",
    "\n",
    "with tf.Session() as sess:\n",
    "    sess.run(init)\n",
    "    for step in range(201):\n",
    "        sess.run(train)\n",
    "        if(step%20==0):\n",
    "            print(step,sess.run([k,b]))\n",
    "\n"
   ]
  },
  {
   "cell_type": "code",
   "execution_count": null,
   "metadata": {
    "collapsed": true
   },
   "outputs": [],
   "source": []
  }
 ],
 "metadata": {
  "kernelspec": {
   "display_name": "Python 3",
   "language": "python",
   "name": "python3"
  },
  "language_info": {
   "codemirror_mode": {
    "name": "ipython",
    "version": 3
   },
   "file_extension": ".py",
   "mimetype": "text/x-python",
   "name": "python",
   "nbconvert_exporter": "python",
   "pygments_lexer": "ipython3",
   "version": "3.6.3"
  }
 },
 "nbformat": 4,
 "nbformat_minor": 2
}
